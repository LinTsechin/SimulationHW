{
 "cells": [
  {
   "cell_type": "markdown",
   "metadata": {},
   "source": [
    "# 计算机模拟第二周作业"
   ]
  },
  {
   "cell_type": "markdown",
   "metadata": {},
   "source": [
    "## 问题一\n",
    "\n",
    "**求证**：若 $\\eta$ 服从 $U(0, 1)$，则 $1 - \\eta$ 也服从 $U(0, 1)$\n",
    "\n",
    "**证明**：\n",
    "\n",
    "根据假设，$\\eta$ 的密度函数为 $f_{\\eta}(x) = 1, \\ 0 \\leq x \\leq 1$。\n",
    "因此，$1 - \\eta$ 的密度函数为：\n",
    "$$f_{1 - \\eta}(y) = f_{\\eta}(1 - y)|(1-y)'| = 1$$\n",
    "其中 $0 \\leq 1 - y \\leq 1$。因此 $1 - \\eta \\sim U(0, 1)$。"
   ]
  },
  {
   "cell_type": "markdown",
   "metadata": {},
   "source": [
    "## 问题二\n",
    "\n",
    "**求证**：若 $\\eta$ 服从 $U(0, 1)$，则 $\\xi = - \\lambda log \\ \\eta$ 服从参数为 $\\lambda > 0$ 的指数分布。\n",
    "\n",
    "**证明**：\n",
    "\n",
    "根据假设，$\\eta = e^{-\\xi / \\lambda}$，从而 $\\xi$ 的密度函数为：\n",
    "$$f_{\\xi}(y) = f_{\\eta}(e^{-y / \\lambda})|(e^{-y / \\lambda})'| = e^{-y / \\lambda} / \\lambda$$\n",
    "其中 $0 \\leq e^{-y / \\lambda} \\leq 1$ 即 $y \\geq 0$。因此 $\\xi \\sim exp(\\lambda)$。"
   ]
  }
 ],
 "metadata": {
  "kernelspec": {
   "display_name": "Python 3",
   "language": "python",
   "name": "python3"
  },
  "language_info": {
   "codemirror_mode": {
    "name": "ipython",
    "version": 3
   },
   "file_extension": ".py",
   "mimetype": "text/x-python",
   "name": "python",
   "nbconvert_exporter": "python",
   "pygments_lexer": "ipython3",
   "version": "3.6.6"
  }
 },
 "nbformat": 4,
 "nbformat_minor": 2
}
