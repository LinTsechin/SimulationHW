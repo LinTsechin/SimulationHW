{
 "cells": [
  {
   "cell_type": "markdown",
   "metadata": {},
   "source": [
    "# 计算机模拟第六周作业"
   ]
  },
  {
   "cell_type": "code",
   "execution_count": 1,
   "metadata": {},
   "outputs": [],
   "source": [
    "from __future__ import print_function, division\n",
    "\n",
    "# 这句话是非标准的python，用于ipthon或jupyter这样的系统中，表示绘图即刻自动展开。\n",
    "%matplotlib inline\n",
    "\n",
    "# 这里把全部Warning过滤掉了. \n",
    "# 参见https://docs.python.org/2/library/warnings.html\n",
    "import warnings\n",
    "warnings.filterwarnings('ignore')\n",
    "\n",
    "import numpy as np\n",
    "import matplotlib.pyplot as plt\n",
    "np.random.seed(250)"
   ]
  },
  {
   "cell_type": "markdown",
   "metadata": {},
   "source": [
    "## 椭圆面积估计\n",
    "\n",
    "椭圆的轨迹为到两个焦点 $(x_1, y_1)$ 和 $(x_2, y_2)$ 距离之和为定长 $L$ 的曲线。由于只是需要计算面积，我们可以通过坐标变换将该椭圆的长轴换到 $x$ 轴上。椭圆的焦距 $c = \\sqrt{(x_1-x_2)^2 + (y_1-y_2)^2} / 2$，长轴 $a = L/2$，短轴 $b = \\sqrt{(a^2 - c^2)}$。于是，我们可以将该椭圆在第一象限的部分放缩到 $[0, 1] \\times [0, 1]$ 矩形内，用于实施 Monte Carlo 算法。计算出投点命中率之后，乘以 $ 4a^2 $ 就得到椭圆面积的无偏估计值，得到的标准误差乘以 $ 16a^4 $ 就得到椭圆面积估计值的标准误差。设 $n$ 为投点次数，$S$ 为投点次数，上述结论可以表示为：\n",
    "\n",
    "$$ \\bar{\\lambda}_n = 4a^{2}\\frac{S}{n} $$\n",
    "$$ Var[\\bar{\\lambda}_n] = \\frac{16a^4}{n-1}\\frac{S}{n}(1-\\frac{S}{n}) $$"
   ]
  },
  {
   "cell_type": "code",
   "execution_count": 2,
   "metadata": {},
   "outputs": [],
   "source": [
    "# Monte Carlo 方法计算椭圆面积\n",
    "# 输入：焦点坐标 (x1, y1), (x2, y2), 定长 L， 投点次数 T\n",
    "# 输出：椭圆面积估计值，对应标准误差\n",
    "def ellipse_area(x1, y1, x2, y2, L, times):\n",
    "    # 计算焦距平方，长短轴长的平方\n",
    "    c2 = (((x1 - x2)**2 + (y1 - y2)**2)) / 4\n",
    "    a2 = L**2 /4\n",
    "    b2 = (a2 - c2)\n",
    "    # 随机投点\n",
    "    dots = np.random.rand(2, times)\n",
    "    inside = 0\n",
    "    for i in range(times):\n",
    "        # 判断点是否在椭圆内\n",
    "        d = dots[0, i]**2 + (dots[1, i]**2) * a2 / b2\n",
    "        if d <= 1:\n",
    "            inside += 1\n",
    "        # 计算面积估计值，标准误差\n",
    "        area = inside/times\n",
    "    return 4*a2*area, 16*a2*a2*area*(1-area)/(times-1)"
   ]
  },
  {
   "cell_type": "markdown",
   "metadata": {},
   "source": [
    "假设焦点为 $(1, 1), (-1, 0)$，定长为 $3$，理论上椭圆的面积为 $3\\pi/2$，我们可以运行程序得到其面积估计值与估计的标准误差，可以看到估计值与理论值十分接近。"
   ]
  },
  {
   "cell_type": "code",
   "execution_count": 6,
   "metadata": {},
   "outputs": [
    {
     "data": {
      "text/plain": [
       "(4.7439, 0.00020190714697146972)"
      ]
     },
     "execution_count": 6,
     "metadata": {},
     "output_type": "execute_result"
    }
   ],
   "source": [
    "# 投点 100000 次\n",
    "ellipse_area(1, 1, -1, 0, 3, 100000)"
   ]
  },
  {
   "cell_type": "markdown",
   "metadata": {},
   "source": [
    "## 面积上下边界\n",
    "\n",
    "如前所述，将椭圆长轴变换到 $x$ 轴之上，得到的椭圆的参数方程为：\n",
    "\n",
    "\\begin{equation}\n",
    "\\left\\{\n",
    "\\begin{array} \\\n",
    "x=a \\ cos\\theta\\\\\n",
    "y=b \\ sin\\theta\\\\\n",
    "\\end{array}\n",
    "\\right.\n",
    "\\end{equation}\n",
    "\n",
    "其中 $\\theta \\in [0, 2\\pi)$。考虑其第一象限的部分，可以得到椭圆的上边界 $[0, a] \\times [0, b]$。至于下边界，我们的目标是使其尽量大，于是\n",
    "\n",
    "$$ \\lambda_U = sup_{\\theta}\\{ab sin\\theta cos \\theta\\} = ab/2.$$\n",
    "\n",
    "取到最大值时，$\\theta = \\pi/2$。故有下边界 $[0, a/{\\sqrt{2}}] \\times [0, b/{\\sqrt{2}}]$。下面的程序用拒绝-接受算法 (AR) 抽取落在$\\mathscr{R}_U \\backslash \\mathscr{R}_L$之间随机分布。"
   ]
  },
  {
   "cell_type": "code",
   "execution_count": 8,
   "metadata": {},
   "outputs": [],
   "source": [
    "# Monte Carlo 方法 + 上下边界筛选计算椭圆面积\n",
    "# 输入：焦点坐标 (x1, y1), (x2, y2), 定长 L， 投点次数 T\n",
    "# 输出：椭圆面积估计值，对应标准误差\n",
    "def ellipse_area_AR(x1, y1, x2, y2, L, times):\n",
    "    # 计算焦距平方，长短轴长的平方\n",
    "    c2 = (((x1 - x2)**2 + (y1 - y2)**2)) / 4\n",
    "    a2 = L**2 /4\n",
    "    b2 = (a2 - c2)\n",
    "    # 计算上下边界\n",
    "    xL = 1/(2**0.5)\n",
    "    yU = (b2/a2)**0.5\n",
    "    yL = yU/(2**0.5)\n",
    "    # 随机投点\n",
    "    dots = np.random.rand(2, times)\n",
    "    inside = 0\n",
    "    for i in range(times):\n",
    "        # 点在下边界内\n",
    "        if dots[0, i] <= xL and dots[1, i] <= yL:\n",
    "            inside += 1\n",
    "        # 点在上边界内，接着判断是否在椭圆内\n",
    "        elif dots[1, i] <= yU:\n",
    "            d = dots[0, i]**2 + (dots[1, i]**2) * a2 / b2\n",
    "            if d <= 1:\n",
    "                inside += 1\n",
    "        # 计算面积估计值，标准误差\n",
    "        area = inside/times\n",
    "    return 4*a2*area, 16*a2*a2*area*(1-area)/(times-1)"
   ]
  },
  {
   "cell_type": "markdown",
   "metadata": {},
   "source": [
    "同样用上面的椭圆来测试我们的程序："
   ]
  },
  {
   "cell_type": "code",
   "execution_count": 10,
   "metadata": {},
   "outputs": [
    {
     "data": {
      "text/plain": [
       "(4.720140000000001, 0.0002020174039780398)"
      ]
     },
     "execution_count": 10,
     "metadata": {},
     "output_type": "execute_result"
    }
   ],
   "source": [
    "ellipse_area_AR(1, 1, -1, 0, 3, 100000)"
   ]
  },
  {
   "cell_type": "markdown",
   "metadata": {},
   "source": [
    "最后统计一下实际误差的分布："
   ]
  },
  {
   "cell_type": "code",
   "execution_count": 12,
   "metadata": {},
   "outputs": [
    {
     "data": {
      "image/png": "[encoded data removed]",
      "text/plain": [
       "<Figure size 432x288 with 1 Axes>"
      ]
     },
     "metadata": {
      "needs_background": "light"
     },
     "output_type": "display_data"
    }
   ],
   "source": [
    "T = 1000\n",
    "n = 100000\n",
    "abs_err = np.zeros(T)\n",
    "for i in range(T):\n",
    "    abs_err[i] = (ellipse_area_AR(1, 1, -1, 0, 3, 100000)[0] - 3*np.pi/2)\n",
    "plt.hist(abs_err, bins=50, normed=True, label=\"Stat. of the Sampling\");"
   ]
  }
 ],
 "metadata": {
  "kernelspec": {
   "display_name": "Python 3",
   "language": "python",
   "name": "python3"
  },
  "language_info": {
   "codemirror_mode": {
    "name": "ipython",
    "version": 3
   },
   "file_extension": ".py",
   "mimetype": "text/x-python",
   "name": "python",
   "nbconvert_exporter": "python",
   "pygments_lexer": "ipython3",
   "version": "3.6.6"
  }
 },
 "nbformat": 4,
 "nbformat_minor": 2
}
