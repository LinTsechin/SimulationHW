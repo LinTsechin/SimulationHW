{
 "cells": [
  {
   "cell_type": "markdown",
   "metadata": {},
   "source": [
    "# 计算机模拟第七周作业"
   ]
  },
  {
   "cell_type": "code",
   "execution_count": 1,
   "metadata": {},
   "outputs": [],
   "source": [
    "from __future__ import print_function, division\n",
    "\n",
    "# 这句话是非标准的python，用于ipthon或jupyter这样的系统中，表示绘图即刻自动展开。\n",
    "%matplotlib inline\n",
    "\n",
    "# 这里把全部Warning过滤掉了. \n",
    "# 参见https://docs.python.org/2/library/warnings.html\n",
    "import warnings\n",
    "warnings.filterwarnings('ignore')\n",
    "\n",
    "import numpy as np\n",
    "import matplotlib.pyplot as plt\n",
    "from scipy.stats import norm\n",
    "np.random.seed(250)"
   ]
  },
  {
   "cell_type": "markdown",
   "metadata": {},
   "source": [
    "## MC 积分\n",
    "\n",
    "用 MC 积分计算\n",
    "$$\n",
    "I = \\int _ { 0 } ^ { 1 } \\int _ { 0 } ^ { 1 } \\sin x \\sin y d x d y,\n",
    "$$\n",
    "并给出 $\\delta = 0.01$ 的置信区间估计。\n",
    "\n",
    "下面假设函数 $\\varphi(\\vec{X})$ 定义在 $\\mathscr { J } ^ { m }$ 上，积分值的 ${ \\zeta } ( \\mathscr { R } )$ 无偏估计为：\n",
    "$$\n",
    "\\overline { \\zeta } _ { n } ( \\mathscr { R } ) = \\frac { 1 } { n } \\sum _ { i = 1 } ^ { n } \\varphi \\left( \\vec { X } ^ { ( i ) } \\right)\n",
    "$$\n",
    "\n",
    "置信区间这里使用：\n",
    "$$\n",
    "\\left[ \\overline { \\zeta } _ { n } - \\Phi ^ { - 1 } \\left( 1 - \\frac { \\delta } { 2 } \\right) \\sqrt { \\frac { \\hat { \\sigma } _ { n } ^ { 2 } } { n } } , \\overline { \\zeta } _ { n } + \\Phi ^ { - 1 } \\left( 1 - \\frac { \\delta } { 2 } \\right) \\sqrt { \\frac { \\hat { \\sigma } _ { n } ^ { 2 } } { n } } \\right]\n",
    "$$\n",
    "其中：\n",
    "$$\n",
    "\\hat { \\sigma } _ { n } ^ { 2 } = \\frac { 1 } { n - 1 } \\left[ \\sum _ { j = 1 } ^ { n } \\varphi ^ { 2 } \\left( \\vec { X } ^ { ( j ) } \\right) - n \\overline { \\zeta } _ { n } ^ { 2 } \\right]\n",
    "$$\n",
    "\n",
    "于是可以编写出下面的程序："
   ]
  },
  {
   "cell_type": "code",
   "execution_count": 2,
   "metadata": {},
   "outputs": [],
   "source": [
    "# 被积函数\n",
    "def obj_fun2D(x, y):\n",
    "    return np.sin(x) * np.sin(y)\n",
    "\n",
    "# 二维 Monte Carlo 积分程序\n",
    "# 输入：\n",
    "# ----x1, x2, y1, y2：积分区间\n",
    "# ----times: 投点次数\n",
    "# ----delta：置信度\n",
    "# 返回：\n",
    "# ----[积分估计值，置信区间下界，置信区间上界]\n",
    "def MC_Int2D(x1, x2, y1, y2, times, delta):\n",
    "    X = np.random.rand(times) * (x2-x1) + x1\n",
    "    Y = np.random.rand(times) * (y2-y1) + y1\n",
    "    I = 0\n",
    "    sigma2 = 0\n",
    "    for i in range(times):\n",
    "        funv = obj_fun2D(X[i], Y[i])\n",
    "        I += funv\n",
    "        sigma2 += funv**2\n",
    "    I = I / times\n",
    "    sigma2 = (sigma2-times*(I**2))/(times-1)\n",
    "    length = norm.ppf(1-delta/2)*((sigma2/times)**(1/2))\n",
    "    return I, I-length, I+length"
   ]
  },
  {
   "cell_type": "markdown",
   "metadata": {},
   "source": [
    "投点 $10^6$ 次，得到的估计值、置信区间下界、上界分别为"
   ]
  },
  {
   "cell_type": "code",
   "execution_count": 3,
   "metadata": {},
   "outputs": [
    {
     "data": {
      "text/plain": [
       "(0.21105583441543424, 0.21061205720659193, 0.21149961162427655)"
      ]
     },
     "execution_count": 3,
     "metadata": {},
     "output_type": "execute_result"
    }
   ],
   "source": [
    "# 投点 1000000 次\n",
    "MC_Int2D(0, 1, 0, 1, 1000000, 0.01)"
   ]
  },
  {
   "cell_type": "markdown",
   "metadata": {},
   "source": [
    "与理论值 $(1-cos(1))^2$ 比较，可以看到十分接近。"
   ]
  },
  {
   "cell_type": "code",
   "execution_count": 17,
   "metadata": {},
   "outputs": [
    {
     "data": {
      "text/plain": [
       "0.21132196999014932"
      ]
     },
     "execution_count": 17,
     "metadata": {},
     "output_type": "execute_result"
    }
   ],
   "source": [
    "(1-np.cos(1))**2"
   ]
  },
  {
   "cell_type": "markdown",
   "metadata": {},
   "source": [
    "# 被积函数性质与置信区间的关系"
   ]
  },
  {
   "cell_type": "markdown",
   "metadata": {},
   "source": [
    "下面用一维积分来说明被积函数性质与置信区间的关系，首先定义一维的 Monte Carlo 积分程序："
   ]
  },
  {
   "cell_type": "code",
   "execution_count": 123,
   "metadata": {},
   "outputs": [],
   "source": [
    "# 一维 Monte Carlo 积分程序\n",
    "# 输入：\n",
    "# ----obj_fun：被积函数\n",
    "# ----a, b：积分区间\n",
    "# ----times: 投点次数\n",
    "# ----delta：置信度\n",
    "# 返回：\n",
    "# ----[积分估计值，置信区间半径]\n",
    "def MC_Int(obj_fun, a, b, times, delta):\n",
    "    S = 0\n",
    "    sigma2 = 0\n",
    "    X = np.random.rand(times)*(b - a) + a\n",
    "    for i in range(times):\n",
    "        funv = obj_fun(X[i])\n",
    "        S += funv\n",
    "        sigma2 += funv**2\n",
    "    S = S/times\n",
    "    sigma2 = (sigma2-times*(S**2))/(times-1)\n",
    "    length = norm.ppf(1-delta/2)*((sigma2/times)**(1/2))*(b-a)\n",
    "    return S*(b-a), length*(b-a)"
   ]
  },
  {
   "cell_type": "markdown",
   "metadata": {},
   "source": [
    "根据置信区间的定义：\n",
    "$$\n",
    "\\left[ \\overline { \\zeta } _ { n } - \\Phi ^ { - 1 } \\left( 1 - \\frac { \\delta } { 2 } \\right) \\sqrt { \\frac { \\hat { \\sigma } _ { n } ^ { 2 } } { n } } , \\overline { \\zeta } _ { n } + \\Phi ^ { - 1 } \\left( 1 - \\frac { \\delta } { 2 } \\right) \\sqrt { \\frac { \\hat { \\sigma } _ { n } ^ { 2 } } { n } } \\right]\n",
    "$$\n",
    "我们可以看到，相同积分值的情况下，绝对值偏大的函数会得到更大的置信区间，换言之，震荡程度越大的函数的置信区间越大。下面我们用 $cos(x), 5cos(5x), 9cos(9x)$ 在 $[0, \\pi/2]$ 上的积分来验证我们的结论。容易计算得到这三个积分的结果都为 1。首先定义函数："
   ]
  },
  {
   "cell_type": "code",
   "execution_count": 109,
   "metadata": {},
   "outputs": [],
   "source": [
    "def obj_fun1(x):\n",
    "    return np.cos(x)\n",
    "def obj_fun2(x):\n",
    "    return 5*np.cos(5*x)\n",
    "def obj_fun3(x):\n",
    "    return 9*np.cos(9*x)"
   ]
  },
  {
   "cell_type": "markdown",
   "metadata": {},
   "source": [
    "函数的图像如下，明显看到波动程度：$9cos(9x) > 5cos(5x) > cos(x)$"
   ]
  },
  {
   "cell_type": "code",
   "execution_count": 110,
   "metadata": {},
   "outputs": [
    {
     "data": {
      "image/png": "[encoded data removed]",
      "text/plain": [
       "<Figure size 432x288 with 1 Axes>"
      ]
     },
     "metadata": {
      "needs_background": "light"
     },
     "output_type": "display_data"
    }
   ],
   "source": [
    "x = np.arange(0, np.pi/2, 0.01)\n",
    "y1 = obj_fun1(x)\n",
    "y2 = obj_fun2(x)\n",
    "y3 = obj_fun3(x)\n",
    "\n",
    "plt.title('Curve of Functions')\n",
    "plt.plot(x, y1, color='green', label='cos(x)')\n",
    "plt.plot(x, y2, color='red', label='5cos(5x)')\n",
    "plt.plot(x, y3,  color='skyblue', label='9cos(9x)')\n",
    "plt.legend()\n",
    " \n",
    "plt.xlabel('x')\n",
    "plt.ylabel('y')\n",
    "plt.show()"
   ]
  },
  {
   "cell_type": "markdown",
   "metadata": {},
   "source": [
    "接下来验证函数变化幅度对置信区间长度的影响，从左至右依次是三个函数 100 次模拟得到的置信区间长度，可以看到与预期结果一致。"
   ]
  },
  {
   "cell_type": "code",
   "execution_count": 125,
   "metadata": {},
   "outputs": [
    {
     "data": {
      "text/plain": [
       "[<matplotlib.lines.Line2D at 0x1fbedb9dc88>]"
      ]
     },
     "execution_count": 125,
     "metadata": {},
     "output_type": "execute_result"
    },
    {
     "data": {
      "image/png": "[encoded data removed]",
      "text/plain": [
       "<Figure size 432x288 with 1 Axes>"
      ]
     },
     "metadata": {
      "needs_background": "light"
     },
     "output_type": "display_data"
    }
   ],
   "source": [
    "for T in range(100):\n",
    "    (I, length) = MC_Int(obj_fun1, 0, np.pi/2, 1000, 0.01)\n",
    "    plt.plot(T, length, 'r.')\n",
    "    (I, length) = MC_Int(obj_fun2, 0, np.pi/2, 1000, 0.01)\n",
    "    plt.plot(T+100, length, 'b.')\n",
    "    (I, length) = MC_Int(obj_fun3, 0, np.pi/2, 1000, 0.01)\n",
    "    plt.plot(T+200, length, 'g.')\n",
    "plt.plot([0,300],[0,0],'--')"
   ]
  },
  {
   "cell_type": "markdown",
   "metadata": {},
   "source": [
    "下面的代码用来检验所求置信区间的合理性，返回1000 次模拟中精确积分值 1 落入置信区间的次数："
   ]
  },
  {
   "cell_type": "code",
   "execution_count": 127,
   "metadata": {},
   "outputs": [
    {
     "data": {
      "text/plain": [
       "(10000, 9999, 9999)"
      ]
     },
     "execution_count": 127,
     "metadata": {},
     "output_type": "execute_result"
    }
   ],
   "source": [
    "confi_1 = 0\n",
    "confi_2 = 0\n",
    "confi_3 = 0\n",
    "for T in range(1000):\n",
    "    (I, length) = MC_Int(obj_fun1, 0, np.pi/2, 1000, 0.01)\n",
    "    if 1 >= I-length and 1 <= I+length:\n",
    "        confi_1 += 1\n",
    "    (I, length) = MC_Int(obj_fun2, 0, np.pi/2, 1000, 0.01)\n",
    "    if 1 >= I-length and 1 <= I+length:\n",
    "        confi_2 += 1\n",
    "    (I, length) = MC_Int(obj_fun3, 0, np.pi/2, 1000, 0.01)\n",
    "    if 1 >= I-length and 1 <= I+length:\n",
    "        confi_3 += 1\n",
    "(confi_1, confi_2, confi_3)"
   ]
  }
 ],
 "metadata": {
  "kernelspec": {
   "display_name": "Python 3",
   "language": "python",
   "name": "python3"
  },
  "language_info": {
   "codemirror_mode": {
    "name": "ipython",
    "version": 3
   },
   "file_extension": ".py",
   "mimetype": "text/x-python",
   "name": "python",
   "nbconvert_exporter": "python",
   "pygments_lexer": "ipython3",
   "version": "3.6.6"
  }
 },
 "nbformat": 4,
 "nbformat_minor": 2
}
