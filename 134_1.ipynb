{
 "cells": [
  {
   "cell_type": "markdown",
   "metadata": {},
   "source": [
    "# 计算机模拟第一周作业\n",
    "\n",
    "## 题目描述\n",
    "\n",
    "假设：\n",
    "$$X_i = (AX_{i-1}) \\ mod \\ M, \\qquad i \\geq 1$$\n",
    "$$Y_j = (BY_{j-1}) \\ mod \\ M, \\qquad j \\geq 1$$\n",
    "其中 $AB \\ mod \\ M = 1$，并且 $X_0,Y_0 \\leq M - 1$。\n",
    "\n",
    "证明：用 B 做参数产生的随机序列和用 A 做参数产生的随机序列一样，只是次序相反（倒序）。\n",
    "\n",
    "## 证明\n",
    "欲证明题目中的结论，只需证明：对任意 $i, j \\in Z_+$，若 $X_i = Y_{j+1}$，则：\n",
    "$$X_{i+1} = Y_j$$\n",
    "\n",
    "由于:\n",
    "$$X_{i+1} = (AX_i) \\ mod \\ M$$\n",
    "$$Y_{j+1} = (BY_j) \\ mod \\ M$$\n",
    "利用 $AB \\ mod \\ M = 1$，可得：\n",
    "$$AY_{j+1} \\ mod \\ M = A(BY_j) \\ mod \\ M = Y_j \\ mod \\ Y = Y_j$$\n",
    "最后一个等号的成立是由于 $Y_j \\leq M - 1$。\n",
    "因此，$Y_j = AX_i \\ mod \\ M = X_{i+1}$，结论成立。\n",
    "\n",
    "根据对称性，对任意 $i, j \\in Z_+$，若 $X_{i+1} = Y_j$，则：\n",
    "$$X_i = Y_{j+1}$$\n",
    "题目中结论得证。\n",
    "\n",
    "## 验证\n",
    "\n",
    "以下是乘同余随机数生成器的实现"
   ]
  },
  {
   "cell_type": "code",
   "execution_count": 10,
   "metadata": {},
   "outputs": [],
   "source": [
    "import numpy as np\n",
    "\n",
    "# 乘同余随机数生成器\n",
    "def rand_mul_mod(X0, A, M, N):\n",
    "    X = np.zeros(N)\n",
    "    X[0] = X0\n",
    "    for i in range(1, N):\n",
    "        X[i] = (A * X[i - 1]) % M\n",
    "    return X"
   ]
  },
  {
   "cell_type": "markdown",
   "metadata": {},
   "source": [
    "### M 为质数\n",
    "\n",
    "选取 $M = 31, \\ A = 4, \\ B = 8$ 来验证。"
   ]
  },
  {
   "cell_type": "code",
   "execution_count": 22,
   "metadata": {},
   "outputs": [
    {
     "data": {
      "text/plain": [
       "array([ 1.,  5., 25.,  9., 16., 22., 23., 28., 24.,  4., 20., 13.,  7.,\n",
       "        6.,  1.])"
      ]
     },
     "execution_count": 22,
     "metadata": {},
     "output_type": "execute_result"
    }
   ],
   "source": [
    "# 生成 X\n",
    "X = rand_mul_mod(1, 5, 29, 15)\n",
    "X"
   ]
  },
  {
   "cell_type": "code",
   "execution_count": 30,
   "metadata": {},
   "outputs": [
    {
     "data": {
      "text/plain": [
       "array([ 1.,  6.,  7., 13., 20.,  4., 24., 28., 23., 22., 16.,  9., 25.,\n",
       "        5.,  1.])"
      ]
     },
     "execution_count": 30,
     "metadata": {},
     "output_type": "execute_result"
    }
   ],
   "source": [
    "# 生成 Y\n",
    "Y = rand_mul_mod(1, 6, 29, 15)\n",
    "Y"
   ]
  },
  {
   "cell_type": "code",
   "execution_count": 31,
   "metadata": {},
   "outputs": [
    {
     "data": {
      "text/plain": [
       "array([ True,  True,  True,  True,  True,  True,  True,  True,  True,\n",
       "        True,  True,  True,  True,  True,  True])"
      ]
     },
     "execution_count": 31,
     "metadata": {},
     "output_type": "execute_result"
    }
   ],
   "source": [
    "# 验证顺序相反\n",
    "X == Y[::-1]"
   ]
  },
  {
   "cell_type": "markdown",
   "metadata": {},
   "source": [
    "### M不为质数\n",
    "\n",
    "选取 $M = 10, \\ A = 3, \\ B = 7$ 来验证："
   ]
  },
  {
   "cell_type": "code",
   "execution_count": 35,
   "metadata": {},
   "outputs": [
    {
     "data": {
      "text/plain": [
       "array([2., 6., 8., 4., 2., 6., 8., 4., 2., 6.])"
      ]
     },
     "execution_count": 35,
     "metadata": {},
     "output_type": "execute_result"
    }
   ],
   "source": [
    "# 生成 U\n",
    "U = rand_mul_mod(2, 3, 10, 10)\n",
    "U"
   ]
  },
  {
   "cell_type": "code",
   "execution_count": 36,
   "metadata": {},
   "outputs": [
    {
     "data": {
      "text/plain": [
       "array([6., 2., 4., 8., 6., 2., 4., 8., 6., 2.])"
      ]
     },
     "execution_count": 36,
     "metadata": {},
     "output_type": "execute_result"
    }
   ],
   "source": [
    "# 生成 V\n",
    "V = rand_mul_mod(6, 7, 10, 10)\n",
    "V"
   ]
  },
  {
   "cell_type": "code",
   "execution_count": 37,
   "metadata": {},
   "outputs": [
    {
     "data": {
      "text/plain": [
       "array([ True,  True,  True,  True,  True,  True,  True,  True,  True,\n",
       "        True])"
      ]
     },
     "execution_count": 37,
     "metadata": {},
     "output_type": "execute_result"
    }
   ],
   "source": [
    "# 验证顺序相反\n",
    "U == V[::-1]"
   ]
  }
 ],
 "metadata": {
  "kernelspec": {
   "display_name": "Python 3",
   "language": "python",
   "name": "python3"
  },
  "language_info": {
   "codemirror_mode": {
    "name": "ipython",
    "version": 3
   },
   "file_extension": ".py",
   "mimetype": "text/x-python",
   "name": "python",
   "nbconvert_exporter": "python",
   "pygments_lexer": "ipython3",
   "version": "3.6.6"
  }
 },
 "nbformat": 4,
 "nbformat_minor": 2
}
