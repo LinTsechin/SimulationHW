{
 "cells": [
  {
   "cell_type": "markdown",
   "metadata": {},
   "source": [
    "# 计算机模拟第三周作业"
   ]
  },
  {
   "cell_type": "code",
   "execution_count": 1,
   "metadata": {},
   "outputs": [],
   "source": [
    "from __future__ import print_function, division\n",
    "\n",
    "# 这句话是非标准的python，用于ipthon或jupyter这样的系统中，表示绘图即刻自动展开。\n",
    "%matplotlib inline\n",
    "\n",
    "# 这里把全部Warning过滤掉了. \n",
    "# 参见https://docs.python.org/2/library/warnings.html\n",
    "import warnings\n",
    "warnings.filterwarnings('ignore')\n",
    "from scipy.special import comb, perm\n",
    "from scipy import stats\n",
    "import numpy as np\n",
    "import sys\n",
    "import matplotlib.pyplot as plt\n",
    "np.random.seed(250)"
   ]
  },
  {
   "cell_type": "markdown",
   "metadata": {},
   "source": [
    "## 问题一"
   ]
  },
  {
   "cell_type": "markdown",
   "metadata": {},
   "source": [
    "**求证**：\n",
    "$$ P(S_L)=\\frac{1}{2}+(1+\\sqrt{2}){e^{-(1+\\sqrt{2})}} $$\n",
    "$$ P(S_U)=\\frac{13}{8}-16e^{-3} $$"
   ]
  },
  {
   "cell_type": "markdown",
   "metadata": {},
   "source": [
    "**证明**：\n",
    "在 AR 法抽取标准半正态分布中：\n",
    "$$ g(x)=e^{-\\frac{(x-1)^2}{2}} $$\n",
    "$$ h(x) = e^{-x}, x \\geq 0 $$\n",
    "\n",
    "并且：\n",
    "$$ g_L(x)=\\frac{1-(x-1)^2}{2} $$\n",
    "$$ g_U(x)=1-\\frac{(x-1)^2}{2}+\\frac{(x-1)^4}{8} $$\n",
    "\n",
    "先解：$ g_L(x) \\geq 0 $，\n",
    "得：$x \\in [1 - \\sqrt{2}, 1 + \\sqrt{2}]$\n",
    "\n",
    "从而：\n",
    "\\begin{equation}\n",
    "\\begin{split}\n",
    "P(S_L) &= \\int_{0}^{1+\\sqrt{2}}{g_L(x)h(x)}dx\\\\\n",
    "&=\\int_{0}^{1+\\sqrt{2}}{(1 - \\frac{(x-1)^2}{2})e^{-x}}dx\\\\\n",
    "&=\\int_{0}^{1+\\sqrt{2}}{\\frac{1+2x-x^2}{2}e^{-x}}dx \\\\\n",
    "&=[\\frac{x^2-1}{2}e^{-x}]_{0}^{1+\\sqrt{2}}\\\\\n",
    "&=\\frac{1}{2}+(1+\\sqrt{2}){e^{-(1+\\sqrt{2})}}\n",
    "\\end{split}\n",
    "\\end{equation}\n",
    "\n",
    "类似的，先解：$ g_U(x) \\leq 1 $，\n",
    "得：$x \\in [-2, 3]$\n",
    "\n",
    "因此：\n",
    "\\begin{equation}\n",
    "\\begin{split}\n",
    "P(S_U) &= 1 - \\int_{0}^{3}{(1 - g_U(x))h(x)}dx\\\\\n",
    "&=1 - \\int_{0}^{3}{(\\frac{(x-1)^2}{2}-\\frac{(x-1)^4}{8})e^{-x}}dx\\\\\n",
    "&=1 - \\int_{0}^{3}{\\frac{e^{-x}}{8}(-x^4 + 4x^3 - 2x^2 - 4x + 3)}dx \\\\\n",
    "&=1 + [\\frac{e^{-x}}{8}(x^4 + 2x^2 + 8x + 5)]_{0}^{3}\\\\\n",
    "&=\\frac{13}{8}-16e^{-3}\n",
    "\\end{split}\n",
    "\\end{equation}"
   ]
  },
  {
   "cell_type": "markdown",
   "metadata": {},
   "source": [
    "## 问题二"
   ]
  },
  {
   "cell_type": "markdown",
   "metadata": {},
   "source": [
    "编程实现这个例子。\n",
    "\n",
    "+ X：产生的正态分布\n",
    "+ k：实际接受总数\n",
    "+ t：实际计算 g 的次数"
   ]
  },
  {
   "cell_type": "code",
   "execution_count": 2,
   "metadata": {},
   "outputs": [],
   "source": [
    "def sample_normal(N):\n",
    "# N, 实际采样数\n",
    "    k = 0  # 实际接受总数\n",
    "    t = 0  # 实际计算 g(x) 次数\n",
    "    U = np.random.rand(N)  # 产生均匀分布\n",
    "    X = [-np.log(u) for u in U]  # 产生服从h的随机变量X\n",
    "    U = np.random.rand(N)  # 产生均匀分布 eta\n",
    "    for i in range(N):\n",
    "        GL = (1-((X[i]-1)**2)/2) # 计算 GL(x[i])\n",
    "        flag = False  # 布尔变量，用于指示是否接受\n",
    "        if U[i] <= GL:  # eta <= GL(x[i])\n",
    "            flag = True  # 接受\n",
    "        else:  # eta >= GL(x[i])\n",
    "            GU = GL + ((X[i]-1)**4)/8  # 计算 GU(x[i])\n",
    "            if U[i] <= GU:  # eta <= GU(x[i])\n",
    "                G = np.exp(-(X[i]-1)**2/2)  # 计算 G(x[i])\n",
    "                t = t + 1  # 实际计算 g(x) 次数增 1\n",
    "                if U[i] <= G:  # eta <= G(x[i])\n",
    "                    flag = True  # 接受\n",
    "        if flag:  # 接受，产生正态分布\n",
    "            w = np.random.rand()\n",
    "            if w <= 0.5:\n",
    "                X[k] = X[i]\n",
    "            else:\n",
    "                X[k] = -X[i]\n",
    "            k = k + 1\n",
    "    return X, k, t"
   ]
  },
  {
   "cell_type": "markdown",
   "metadata": {},
   "source": [
    "+ 对实际抽样结果进行统计，并将统计分布和理论概率密度分布进行比较。\n",
    "\n",
    "如下所示。"
   ]
  },
  {
   "cell_type": "code",
   "execution_count": 3,
   "metadata": {},
   "outputs": [
    {
     "data": {
      "image/png": "[encoded data removed]",
      "text/plain": [
       "<Figure size 432x288 with 1 Axes>"
      ]
     },
     "metadata": {
      "needs_background": "light"
     },
     "output_type": "display_data"
    }
   ],
   "source": [
    "N = 1000000\n",
    "X, k, t = sample_normal(N)\n",
    "x = np.linspace(-6,6,10000)\n",
    "plt.hist(X[0:k], bins=50,normed=True, label=\"Stat\");\n",
    "plt.plot(x,1/np.sqrt(2*np.pi)*np.exp(-x**2/2), label=r\"PDF\")\n",
    "plt.legend()\n",
    "plt.xlabel(r\"Normal Distribution Samples Produced by Squeeze AR Method\")\n",
    "plt.savefig('normal.pdf')"
   ]
  },
  {
   "cell_type": "markdown",
   "metadata": {},
   "source": [
    "+ 统计实际计算 $g(x)$ 的频率，并和理论值进行比较。\n",
    "\n",
    "理论值为：\n",
    "\n",
    "$$N(P(S_U) - P(S_L)) \\approx 10^6 \\times (0.8284 - 0.7159) = 112500 $$\n",
    "\n",
    "而实际值为："
   ]
  },
  {
   "cell_type": "code",
   "execution_count": 4,
   "metadata": {},
   "outputs": [
    {
     "data": {
      "text/plain": [
       "112820"
      ]
     },
     "execution_count": 4,
     "metadata": {},
     "output_type": "execute_result"
    }
   ],
   "source": [
    "t"
   ]
  },
  {
   "cell_type": "markdown",
   "metadata": {},
   "source": [
    "可见实际值与理论值十分接近。"
   ]
  },
  {
   "cell_type": "markdown",
   "metadata": {},
   "source": [
    "+ 对统计的结果给出结论。\n",
    "\n",
    "由上述结果可知，原本 AR 法每次取样中都需要计算 $g(x)$ (正态抽样中这是一个指数计算)。使用挤压法之后，有将近 88.75% 的概率不需要计算 $g(x)$，而仅仅需要计算 $g_L(x)$ 与 $g_U(x)$ (上述例子中为多项式)即可。这对运算速度是一个不小的提升，尤其是取样次数增多的时候。"
   ]
  }
 ],
 "metadata": {
  "kernelspec": {
   "display_name": "Python 3",
   "language": "python",
   "name": "python3"
  },
  "language_info": {
   "codemirror_mode": {
    "name": "ipython",
    "version": 3
   },
   "file_extension": ".py",
   "mimetype": "text/x-python",
   "name": "python",
   "nbconvert_exporter": "python",
   "pygments_lexer": "ipython3",
   "version": "3.6.6"
  }
 },
 "nbformat": 4,
 "nbformat_minor": 2
}
