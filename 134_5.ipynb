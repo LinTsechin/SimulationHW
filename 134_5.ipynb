{
 "cells": [
  {
   "cell_type": "markdown",
   "metadata": {},
   "source": [
    "# 计算机模拟第五周作业"
   ]
  },
  {
   "cell_type": "code",
   "execution_count": 1,
   "metadata": {},
   "outputs": [],
   "source": [
    "from __future__ import print_function, division\n",
    "\n",
    "# 这句话是非标准的python，用于ipthon或jupyter这样的系统中，表示绘图即刻自动展开。\n",
    "%matplotlib inline\n",
    "\n",
    "# 这里把全部Warning过滤掉了. \n",
    "# 参见https://docs.python.org/2/library/warnings.html\n",
    "import warnings\n",
    "warnings.filterwarnings('ignore')\n",
    "\n",
    "import numpy as np\n",
    "import matplotlib.pyplot as plt\n",
    "np.random.seed(250)"
   ]
  },
  {
   "cell_type": "markdown",
   "metadata": {},
   "source": [
    "## 心形曲线绘制"
   ]
  },
  {
   "cell_type": "code",
   "execution_count": 2,
   "metadata": {},
   "outputs": [
    {
     "data": {
      "image/png": "[encoded data removed]",
      "text/plain": [
       "<Figure size 432x288 with 1 Axes>"
      ]
     },
     "metadata": {
      "needs_background": "light"
     },
     "output_type": "display_data"
    }
   ],
   "source": [
    "t = np.linspace(0 , 2 * np.pi, 1024)\n",
    "X = 2 * np.cos(t) - np.cos(2*t)\n",
    "Y = 2 * np.sin(t) - np.sin(2*t)\n",
    "plt.plot(X, Y)\n",
    "plt.show()"
   ]
  },
  {
   "cell_type": "markdown",
   "metadata": {},
   "source": [
    "## 计算面积\n",
    "\n",
    "不妨将该曲线沿 x 轴负方向平移一个单位，得到的曲线的参数方程为：\n",
    "\n",
    "\\begin{equation}\n",
    "\\left\\{\n",
    "\\begin{array} \\\n",
    "x=2cos(t)-cos(2t)-1=2cos(t)(1-cos(t))\\\\\n",
    "y=2sin(t)-sin(2t)=2sin(t)(1-cos(t))\\\\\n",
    "\\end{array}\n",
    "\\right.\n",
    "\\end{equation}\n",
    "\n",
    "新曲线的图像如下所示。"
   ]
  },
  {
   "cell_type": "code",
   "execution_count": 3,
   "metadata": {},
   "outputs": [
    {
     "data": {
      "image/png": "[encoded data removed]",
      "text/plain": [
       "<Figure size 432x288 with 1 Axes>"
      ]
     },
     "metadata": {
      "needs_background": "light"
     },
     "output_type": "display_data"
    }
   ],
   "source": [
    "t = np.linspace(0 , 2 * np.pi, 1024)\n",
    "X = 2 * np.cos(t) - np.cos(2*t) - 1\n",
    "Y = 2 * np.sin(t) - np.sin(2*t)\n",
    "plt.plot(X, Y)\n",
    "plt.show()"
   ]
  },
  {
   "cell_type": "markdown",
   "metadata": {},
   "source": [
    "计算原图形面积等价于计算新的图形的面积，并且，新的曲线的极坐标方程为：\n",
    "\n",
    "$$\n",
    "r = 2(1 - cos \\varphi)\n",
    "$$\n",
    "\n",
    "因此，用 Monte Carlo 方法计算该图形面积的步骤为：\n",
    "\n",
    "* 生成两个 [0, 1] 均匀分布序列\n",
    "* 将两个序列分别变换到 [-4, 1] 与 [-3, 3]\n",
    "* 通过极坐标方程判断每个二维点是否落在图形内\n",
    "* 计算面积估计值，标准误差"
   ]
  },
  {
   "cell_type": "code",
   "execution_count": 4,
   "metadata": {},
   "outputs": [],
   "source": [
    "# Monte Carlo 方法计算心形线面积\n",
    "# 此处保存 inside 是为了方便计算置信区间\n",
    "def area_heart(times):\n",
    "    inside = 0\n",
    "    dots = np.random.rand(2, times)\n",
    "    for i in range(times):\n",
    "        # 区间变换（线性映射）\n",
    "        x = 5 * dots[0, i] - 4\n",
    "        y = 6 * dots[1, i] - 3\n",
    "        # 判断点是否在图形内\n",
    "        r = (x**2 + y**2)**0.5\n",
    "        if r == 0:\n",
    "            inside += 1\n",
    "        else:\n",
    "            cos_phi = x / r\n",
    "            if  r <= 2 * (1 - cos_phi):\n",
    "                inside += 1\n",
    "        # 面积估计值\n",
    "        area = 30 * inside / times\n",
    "    return inside, area"
   ]
  },
  {
   "cell_type": "markdown",
   "metadata": {},
   "source": [
    "令取样次数为 10000，即可得到面积与误差的估计值。"
   ]
  },
  {
   "cell_type": "code",
   "execution_count": 5,
   "metadata": {},
   "outputs": [
    {
     "name": "stdout",
     "output_type": "stream",
     "text": [
      "18.789 0.14514287631659553\n"
     ]
    }
   ],
   "source": [
    "inside, area = area_heart(10000)\n",
    "std_error = ((area)*(30-area)/(10000-1))**0.5\n",
    "print(area, std_error)"
   ]
  },
  {
   "cell_type": "markdown",
   "metadata": {},
   "source": [
    "## 置信区间计算\n",
    "\n",
    "Beta 分布与 F 分布有以下关系：\n",
    "\n",
    "若 \n",
    "$$X \\sim \\beta(a, b), \\quad a, b \\in N_+,$$\n",
    "则 \n",
    "$$Y = \\frac{b}{a} \\frac{X}{1-X} \\sim F(2a, 2b).$$\n",
    "\n",
    "因此，讲义中 Beta 分布函数的求根问题可以转化为求 F 分位数，而这可以通过调用 scipy.stats 库中的函数来解决，省去了一些编程的麻烦。具体来说，我们需要求解的问题为：\n",
    "\n",
    "$$ P(\\beta(S, n-S+1) \\leq \\lambda_L) = \\frac{\\delta}{2},\\quad P(\\beta(S+1, n-S) \\leq \\lambda_U) = 1 - \\frac{\\delta}{2} $$\n",
    "\n",
    "其中 $P(\\beta(a, b) \\leq x)$ 表示 $\\beta(a, b)$ 的分布函数，$\\lambda_L, \\lambda_U$ 分别表示要求的置信下限，置信上限。根据 $\\frac{x}{1-x}$ 在 $(0,1)$ 上的单调递增性，我们有：\n",
    "\n",
    "\\begin{equation}\n",
    "\\begin{split}\n",
    "\\frac{\\delta}{2} &= P(\\beta(S, n-S+1) \\leq \\lambda_L) \\\\\n",
    "&=P(\\frac{\\beta(S, n-S+1)}{1-\\beta(S, n-S+1)} \\leq \\frac{\\lambda_L}{1-\\lambda_L}) \\\\\n",
    "&=P(F(2S, 2(n-S+1)) \\leq \\frac{n-S+1}{S}\\frac{\\lambda_L}{1-\\lambda_L})\n",
    "\\end{split}\n",
    "\\end{equation}\n",
    "\n",
    "从而：\n",
    "\n",
    "$$ \\frac{n-S+1}{S}\\frac{\\lambda_L}{1-\\lambda_L} = F_{1-\\delta/2}(2S, 2(n-S+1))$$\n",
    "\n",
    "其中 $ F_{1-\\alpha}(a, b) $ 为 $F(a,b)$ 的上分位数。从这个方程我们可以很容易解出 $\\lambda_L$，其中分位数的计算只需借助 scipy.stats 库中的 $f.isf(\\alpha, a, b)$ 函数。类似的，对于置信上限，我们有：\n",
    "\n",
    "$$ \\frac{n-S}{S+1}\\frac{\\lambda_U}{1-\\lambda_U} = F_{\\delta/2}(2(S+1), 2(n-S))$$\n",
    "\n",
    "根据上述结论，我们可以写出计算置信区间的代码："
   ]
  },
  {
   "cell_type": "code",
   "execution_count": 7,
   "metadata": {},
   "outputs": [],
   "source": [
    "# 导入计算 F 分位数的相关库\n",
    "from scipy.stats import f\n",
    "\n",
    "# 置信区间计算\n",
    "# 1-delta: 置信度\n",
    "# S: 样本落入区域次数\n",
    "# n: 取样次数\n",
    "# A: 面积放缩倍数，即样本来源区域的面积\n",
    "# [lower, upper]: 置信区间\n",
    "def confidence(delta, n, S, A):\n",
    "    f1 = f.isf(1-delta/2, 2*S, 2*(n-S+1))\n",
    "    lower = f1*S/(n-S+1+f1*S)\n",
    "    f2 = f.isf(delta/2, 2*(S+1), 2*(n-S))\n",
    "    upper = f2*(S+1)/(n-S+f2+f2*S)\n",
    "    return lower*A, upper*A"
   ]
  },
  {
   "cell_type": "markdown",
   "metadata": {},
   "source": [
    "之前的抽样结果所得到的置信区间为："
   ]
  },
  {
   "cell_type": "code",
   "execution_count": 8,
   "metadata": {},
   "outputs": [
    {
     "data": {
      "text/plain": [
       "(18.559851468874353, 19.30838407309703)"
      ]
     },
     "execution_count": 8,
     "metadata": {},
     "output_type": "execute_result"
    }
   ],
   "source": [
    "confidence(0.01, 10000, inside, 30)"
   ]
  },
  {
   "cell_type": "markdown",
   "metadata": {},
   "source": [
    "## 统计计算结果\n",
    "\n",
    "该图形的精确面积为 $6\\pi$，据此我们可以统计出各次模拟绝对误差的情况。"
   ]
  },
  {
   "cell_type": "code",
   "execution_count": 9,
   "metadata": {},
   "outputs": [
    {
     "data": {
      "image/png": "[encoded data removed]",
      "text/plain": [
       "<Figure size 432x288 with 1 Axes>"
      ]
     },
     "metadata": {
      "needs_background": "light"
     },
     "output_type": "display_data"
    }
   ],
   "source": [
    "T = 1000  # 模拟次数\n",
    "n = 10000  # 取样次数\n",
    "delta = 0.01  # 1 - 置信度\n",
    "abs_err = np.zeros(T)  # 绝对误差\n",
    "confi = 0  # 待估参数落入置信区间的次数\n",
    "for i in range(T):\n",
    "    inside, area = area_heart(n)\n",
    "    abs_err[i] = area - 6*np.pi\n",
    "    ## 此处的代码用来验证计算的置信区间的正确性\n",
    "    ## 由于求分位数时间很长，这段代码会运行很久，不需要的话可以将下面三行注释\n",
    "    lower, upper = confidence(delta, n, inside, 30)\n",
    "    if lower <= 6*np.pi and upper >= 6*np.pi:\n",
    "       confi += 1\n",
    "plt.hist(abs_err, bins=40, normed=True, label=\"Stat. of the Sampling\");\n",
    "plt.legend()\n",
    "plt.xlabel(r\"Statistical Test of Frequency\")\n",
    "plt.savefig(\"heart.pdf\")"
   ]
  },
  {
   "cell_type": "markdown",
   "metadata": {},
   "source": [
    "从上面的结果可知，我们对面积的估计是有效的。如果运行上面代码时没有注释掉求置信区间的部分，我们还可以通过 confi 算出待估参数落入置信区间的频率。理论上来说，这个值应该十分接近置信度 $1-\\delta = 0.99$。(我在自己的电脑试着跑了一次 $T =1000$ 的统计，得到的值为 0.993)"
   ]
  },
  {
   "cell_type": "code",
   "execution_count": 10,
   "metadata": {},
   "outputs": [
    {
     "data": {
      "text/plain": [
       "0.993"
      ]
     },
     "execution_count": 10,
     "metadata": {},
     "output_type": "execute_result"
    }
   ],
   "source": [
    "confi / T"
   ]
  }
 ],
 "metadata": {
  "kernelspec": {
   "display_name": "Python 3",
   "language": "python",
   "name": "python3"
  },
  "language_info": {
   "codemirror_mode": {
    "name": "ipython",
    "version": 3
   },
   "file_extension": ".py",
   "mimetype": "text/x-python",
   "name": "python",
   "nbconvert_exporter": "python",
   "pygments_lexer": "ipython3",
   "version": "3.6.6"
  }
 },
 "nbformat": 4,
 "nbformat_minor": 2
}
