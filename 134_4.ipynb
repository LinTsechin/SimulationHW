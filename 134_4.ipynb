{
 "cells": [
  {
   "cell_type": "markdown",
   "metadata": {},
   "source": [
    "# 计算机模拟第四周作业"
   ]
  },
  {
   "cell_type": "markdown",
   "metadata": {},
   "source": [
    "## 证明\n",
    "\n",
    "由于 $ S \\sim b(n, \\lambda), \\lambda = \\lambda(R)$，计算可得 $S$ 的各阶矩：\n",
    "\n",
    "$$ E[S] = {\\lambda}n $$\n",
    "$$ E[S^2] = \\lambda(1-\\lambda)n + {\\lambda^2}n^2 $$\n",
    "$$ E[S^3] = (1-3\\lambda+2\\lambda^2){\\lambda}n + 3{\\lambda^2}(1-\\lambda)n^2 + {\\lambda^3}n^3 $$\n",
    "$$ E[S^4] = (1-7\\lambda+12\\lambda^2-6\\lambda^3){\\lambda}n + {\\lambda^2}(7-18\\lambda+11\\lambda^2)n^2 + 6{\\lambda^3}(1-\\lambda)n^3 + {\\lambda^4}n^4 $$\n",
    "\n",
    "从而，$\\lambda \\not= 1/2$ 时：\n",
    "\n",
    "\\begin{equation}\n",
    "\\begin{split}\n",
    "cov(\\bar{\\lambda}_n, V[\\bar{\\lambda}_n]) &= \\frac{1}{(n-1)n^3}cov(S, S(n-S)) \\\\\n",
    "&=\\frac{1}{(n-1)n^3}(E[S^2(n-S)]-E[S]E[S(n-S)]) \\\\\n",
    "&=\\frac{1}{(n-1)n^3}(nE[S^2] + E[S]E[S^2] - nE[S]^2 - E[S^3]) \\\\\n",
    "&=\\frac{1}{(n-1)n}\\lambda(1-2\\lambda)(1-\\lambda) + o(n^{-2})\n",
    "\\end{split}\n",
    "\\end{equation}\n",
    "\n",
    "另外：\n",
    "\n",
    "\\begin{equation}\n",
    "\\begin{split}\n",
    "Var[\\bar{\\lambda}_n] &= \\frac{1}{n}\\lambda(1-\\lambda)\n",
    "\\end{split}\n",
    "\\end{equation}\n",
    "\n",
    "以及：\n",
    "\n",
    "\\begin{equation}\n",
    "\\begin{split}\n",
    "Var[V[\\bar{\\lambda}_n]] &= \\frac{1}{{(n-1)^2}{n^4}}Var[S(n-S)] \\\\\n",
    "&=\\frac{1}{{(n-1)^2}{n^4}}({n^2}E[S^2] - 2nE[S^3] + E[S^4] - {n^2}E[S]^2 + 2nE[S]E[S^2] - E[S^2]^2) \\\\\n",
    "&=\\frac{1}{{(n-1)^2}n}\\lambda(1-\\lambda)(1-2\\lambda)^2 + o(n^{-3})\n",
    "\\end{split}\n",
    "\\end{equation}\n",
    "\n",
    "代入并令 $n \\rightarrow \\infty$，可得：\n",
    "\n",
    "\\begin{equation}\n",
    "\\begin{split}\n",
    "\\mathop{lim}_{n \\rightarrow \\infty}corr(\\bar{\\lambda}_n, V[\\bar{\\lambda}_n]) \n",
    "&= \\mathop{lim}_{n \\rightarrow \\infty} \\frac{cov(\\bar{\\lambda}_n, V[\\bar{\\lambda}_n])}{\\sqrt{Var[\\bar{\\lambda}_n] Var[V[\\bar{\\lambda}_n]]}} \\\\\n",
    "&= \\mathop{lim}_{n \\rightarrow \\infty} \\frac{\\frac{1}{(n-1)n}\\lambda(1-2\\lambda)(1-\\lambda) + o(n^{-2})}{\\sqrt{\\frac{1}{{(n-1)^2}n^2}{\\lambda^2}{(1-2\\lambda)^2}(1-\\lambda)^2 + o(n^{-4})}} \\\\\n",
    "&= sign(1-2\\lambda)\n",
    "\\end{split}\n",
    "\\end{equation}\n",
    "\n",
    "$\\lambda = 1/2$ 的情形类似可证。"
   ]
  },
  {
   "cell_type": "markdown",
   "metadata": {},
   "source": [
    "## 上述结果的影响"
   ]
  },
  {
   "cell_type": "markdown",
   "metadata": {},
   "source": [
    "从上述结果可以看出，当 $\\lambda \\not= 1/2$ 时，并且取样次数足够大时，$\\bar{\\lambda}_n$ 与 $V[\\bar{\\lambda}_n]$ 会呈现出线性相关的趋势。下面用第一章中计算圆面积的程序来说明这会带来什么坏处。该程序中，$\\lambda > 1/2$，因此 $\\bar{\\lambda}_n$ 与 $V[\\bar{\\lambda}_n]$ 应该为负相关的。首先定义用 Monte Carlo 方法计算圆面积的函数："
   ]
  },
  {
   "cell_type": "code",
   "execution_count": 1,
   "metadata": {},
   "outputs": [],
   "source": [
    "from __future__ import print_function, division\n",
    "\n",
    "# 这句话是非标准的python，用于ipthon或jupyter这样的系统中，表示绘图即刻自动展开。\n",
    "%matplotlib inline\n",
    "\n",
    "# 这里把全部Warning过滤掉了. \n",
    "# 参见https://docs.python.org/2/library/warnings.html\n",
    "import warnings\n",
    "warnings.filterwarnings('ignore')\n",
    "\n",
    "import numpy as np\n",
    "import matplotlib.pyplot as plt\n",
    "\n",
    "def area_circle(times):\n",
    "    inside = 0\n",
    "    dots = np.random.rand(2, times)\n",
    "    for i in range(times):\n",
    "        x = dots[0, i] - 0.5\n",
    "        y = dots[1, i] - 0.5\n",
    "        if x * x + y * y < 0.25:\n",
    "            inside += 1\n",
    "    return inside / times, (inside/times)*(1-inside/times)/(times-1)"
   ]
  },
  {
   "cell_type": "markdown",
   "metadata": {},
   "source": [
    "然后对相同的抽样次数，重复计算 100 次："
   ]
  },
  {
   "cell_type": "code",
   "execution_count": 2,
   "metadata": {},
   "outputs": [],
   "source": [
    "area = []\n",
    "error = []\n",
    "for i in range(1, 100):\n",
    "    area_tmp, error_tmp = area_circle(10000)\n",
    "    area.append(area_tmp)\n",
    "    error.append(error_tmp)"
   ]
  },
  {
   "cell_type": "markdown",
   "metadata": {},
   "source": [
    "对这 100 次计算结果，我们可以绘制出反映 $\\bar{\\lambda}_n$ 与 $V[\\bar{\\lambda}_n]$ 关系的折线图，如下所示。可以看到几乎完全呈现线性。因此，当估计值较大 (此处为超过 $\\pi / 4$) 时，得到的误差估计反而较小，这不符合我们设想的：误差越大，误差估计值越大。当 $\\lambda \\not= 1/2$ 时也有类似的影响。因此，这不是一个好的误差估计。"
   ]
  },
  {
   "cell_type": "code",
   "execution_count": 6,
   "metadata": {},
   "outputs": [
    {
     "data": {
      "image/png": "[encoded data removed]",
      "text/plain": [
       "<Figure size 432x288 with 1 Axes>"
      ]
     },
     "metadata": {
      "needs_background": "light"
     },
     "output_type": "display_data"
    }
   ],
   "source": [
    "plt.title(u'Relation between lambda and V[lambda]')\n",
    "plt.xlabel(u'lambda')\n",
    "plt.ylabel(u'V[lambda]')\n",
    "plt.scatter(area, error)\n",
    "plt.ylim((1.6e-05, 1.8e-05))\n",
    "plt.show()"
   ]
  }
 ],
 "metadata": {
  "kernelspec": {
   "display_name": "Python 3",
   "language": "python",
   "name": "python3"
  },
  "language_info": {
   "codemirror_mode": {
    "name": "ipython",
    "version": 3
   },
   "file_extension": ".py",
   "mimetype": "text/x-python",
   "name": "python",
   "nbconvert_exporter": "python",
   "pygments_lexer": "ipython3",
   "version": "3.6.6"
  }
 },
 "nbformat": 4,
 "nbformat_minor": 2
}
